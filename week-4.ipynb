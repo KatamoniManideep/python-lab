{
 "cells": [
  {
   "cell_type": "code",
   "execution_count": 17,
   "id": "1b3276ce",
   "metadata": {},
   "outputs": [
    {
     "name": "stdout",
     "output_type": "stream",
     "text": [
      "[1, 2, 3, 4, 5]\n",
      "True\n"
     ]
    }
   ],
   "source": [
    "def is_sorted(a):\n",
    "    b=sorted(a)\n",
    "    if a==b:\n",
    "        print(\"True\")\n",
    "    else:\n",
    "        print(\"Flase\")\n",
    "a=[1,2,3,4,5]\n",
    "print(a)\n",
    "is_sorted(a)"
   ]
  },
  {
   "cell_type": "code",
   "execution_count": 16,
   "id": "9a7469cf",
   "metadata": {},
   "outputs": [
    {
     "name": "stdout",
     "output_type": "stream",
     "text": [
      "[1, 2, 3, 3, 4, 5]\n",
      "Flase\n"
     ]
    }
   ],
   "source": [
    "def has_duplicates(a):\n",
    "    b=set(a)\n",
    "    c=list(b)\n",
    "    if a==c:\n",
    "        return \"True\"\n",
    "    else:\n",
    "        return \"Flase\"\n",
    "a=[1,2,3,3,4,5]\n",
    "print(a)\n",
    "print(has_duplicates(a))"
   ]
  },
  {
   "cell_type": "code",
   "execution_count": 20,
   "id": "425e4079",
   "metadata": {},
   "outputs": [
    {
     "name": "stdout",
     "output_type": "stream",
     "text": [
      "[9, 2, 3, 5]\n"
     ]
    }
   ],
   "source": [
    "def remove_duplicates(list1):\n",
    "    a=set(list1)\n",
    "    b=list(a)\n",
    "    return b\n",
    "list1=[2,2,3,5,5,9]\n",
    "print(remove_duplicates(list1))"
   ]
  },
  {
   "cell_type": "code",
   "execution_count": 19,
   "id": "79a2af3e",
   "metadata": {},
   "outputs": [
    {
     "name": "stdout",
     "output_type": "stream",
     "text": [
      "1\n",
      "a\n",
      "2\n",
      "b\n",
      "3\n",
      "c\n",
      "{'1': 'a', '2': 'b', '3': 'c'}\n",
      "{'a': '1', 'b': '2', 'c': '3'}\n"
     ]
    }
   ],
   "source": [
    "this_dict={}\n",
    "my_dict={}\n",
    "for i in range(3):\n",
    "    key=input()\n",
    "    value=input()\n",
    "    this_dict[key]=value\n",
    "print(this_dict)\n",
    "for key,value in this_dict.items():\n",
    "    my_dict[value]=key\n",
    "print(my_dict)"
   ]
  },
  {
   "cell_type": "code",
   "execution_count": 21,
   "id": "2e19a52f",
   "metadata": {},
   "outputs": [
    {
     "name": "stdout",
     "output_type": "stream",
     "text": [
      "jaguar\n",
      "j,a,g,u,a,r\n"
     ]
    }
   ],
   "source": [
    "word=input()\n",
    "','.join(word)\n",
    "print(word)"
   ]
  },
  {
   "cell_type": "code",
   "execution_count": null,
   "id": "f82f790b",
   "metadata": {},
   "outputs": [],
   "source": [
    "sentence=input()\n",
    "word=input()\n",
    "sentence.replace(word,\"\")\n",
    "print(sentence)"
   ]
  },
  {
   "cell_type": "code",
   "execution_count": 22,
   "id": "18889b7f",
   "metadata": {},
   "outputs": [
    {
     "name": "stdout",
     "output_type": "stream",
     "text": [
      "000\n",
      "001\n",
      "010\n",
      "011\n",
      "100\n",
      "101\n",
      "110\n",
      "111\n"
     ]
    }
   ],
   "source": [
    "def generate_binary_str(n, current_string=\"\"):\n",
    "    if n == 0:\n",
    "        print(current_string)\n",
    "        return\n",
    "    generate_binary_str(n - 1, current_string + \"0\")\n",
    "    generate_binary_str(n - 1, current_string + \"1\")\n",
    "\n",
    "n = 3\n",
    "generate_binary_strings(n)\n"
   ]
  },
  {
   "cell_type": "code",
   "execution_count": 24,
   "id": "2f30213b",
   "metadata": {},
   "outputs": [
    {
     "name": "stdout",
     "output_type": "stream",
     "text": [
      "{'a', 1, 'c', 'b'}\n"
     ]
    }
   ],
   "source": [
    "set1={\"a\",\"b\"}\n",
    "set2={1,2,3}\n",
    "set1.add(\"c\")#add element\n",
    "set2.remove(3)#remove element\n",
    "set2.clear()#empty set\n",
    "set2.add(1)\n",
    "set3=set1|set2#join 2 sets\n",
    "print(set3)\n"
   ]
  },
  {
   "cell_type": "code",
   "execution_count": 32,
   "id": "7470cccc",
   "metadata": {},
   "outputs": [
    {
     "name": "stdout",
     "output_type": "stream",
     "text": [
      "15677651\n",
      "15677651 is a palindrome\n"
     ]
    }
   ],
   "source": [
    "s=input()\n",
    "if s[0:]==s[::-1]:\n",
    "    print(f\"{s} is a palindrome\")\n",
    "else:\n",
    "    print(f\"{s} is not a palindrome\")"
   ]
  },
  {
   "cell_type": "code",
   "execution_count": 35,
   "id": "5d7b3c58",
   "metadata": {},
   "outputs": [
    {
     "name": "stdout",
     "output_type": "stream",
     "text": [
      "enter a sentence: good bye\n",
      "Good Bye\n"
     ]
    }
   ],
   "source": [
    "line=input(\"enter a sentence: \")\n",
    "word_list=line.split()\n",
    "new_word=[word[0].upper()+word[1:].lower() for word in word_list]\n",
    "\n",
    "new_line=' '.join(new_word)\n",
    "print(new_line)"
   ]
  },
  {
   "cell_type": "code",
   "execution_count": null,
   "id": "b8aef111",
   "metadata": {},
   "outputs": [],
   "source": []
  }
 ],
 "metadata": {
  "kernelspec": {
   "display_name": "Python 3 (ipykernel)",
   "language": "python",
   "name": "python3"
  },
  "language_info": {
   "codemirror_mode": {
    "name": "ipython",
    "version": 3
   },
   "file_extension": ".py",
   "mimetype": "text/x-python",
   "name": "python",
   "nbconvert_exporter": "python",
   "pygments_lexer": "ipython3",
   "version": "3.9.12"
  }
 },
 "nbformat": 4,
 "nbformat_minor": 5
}
