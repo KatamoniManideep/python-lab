{
 "cells": [
  {
   "cell_type": "code",
   "execution_count": 1,
   "id": "1df85a5d",
   "metadata": {},
   "outputs": [
    {
     "name": "stdout",
     "output_type": "stream",
     "text": [
      "Original List: [1, 2, 3, 4, 5]\n",
      "Converted to Array: [1 2 3 4 5]\n",
      "Original Tuple: (6, 7, 8, 9, 10)\n",
      "Converted to Array: [ 6  7  8  9 10]\n"
     ]
    }
   ],
   "source": [
    "import numpy as np\n",
    "#program to convert a list and tuple into arrays.\n",
    "my_list = [1, 2, 3, 4, 5]\n",
    "my_tuple = (6, 7, 8, 9, 10)\n",
    "\n",
    "list_array = np.array(my_list)\n",
    "tuple_array = np.array(my_tuple)\n",
    "\n",
    "print(\"Original List:\", my_list)\n",
    "print(\"Converted to Array:\", list_array)\n",
    "\n",
    "print(\"Original Tuple:\", my_tuple)\n",
    "print(\"Converted to Array:\", tuple_array)"
   ]
  },
  {
   "cell_type": "code",
   "execution_count": 3,
   "id": "7d48ae41",
   "metadata": {},
   "outputs": [
    {
     "name": "stdout",
     "output_type": "stream",
     "text": [
      "[3 5]\n"
     ]
    }
   ],
   "source": [
    "import numpy as np\n",
    "#program to find common values between two arrays.\n",
    "arr1=np.array([1,2,3,4,5])\n",
    "arr2=np.array([3,5,7,9,11])\n",
    "\n",
    "common_values=np.intersect1d(arr1, arr2)\n",
    "print(common_values)"
   ]
  },
  {
   "cell_type": "code",
   "execution_count": 6,
   "id": "a033ddef",
   "metadata": {},
   "outputs": [
    {
     "name": "stdout",
     "output_type": "stream",
     "text": [
      "4\n"
     ]
    }
   ],
   "source": [
    "import math\n",
    "def GCDab(a,b):\n",
    "    c=math.gcd(a,b)\n",
    "    print(c)\n",
    "GCDab(12,20)"
   ]
  },
  {
   "cell_type": "code",
   "execution_count": 9,
   "id": "ed73a2dd",
   "metadata": {},
   "outputs": [
    {
     "name": "stdout",
     "output_type": "stream",
     "text": [
      "15651\n",
      "True\n"
     ]
    }
   ],
   "source": [
    "def palindrome(str1):\n",
    "    if str1==str1[::-1]:\n",
    "        print(\"True\")\n",
    "    else:\n",
    "        print(\"Flase\")\n",
    "c=input()\n",
    "palindrome(c)"
   ]
  },
  {
   "cell_type": "code",
   "execution_count": 16,
   "id": "7c98c54e",
   "metadata": {},
   "outputs": [
    {
     "name": "stdout",
     "output_type": "stream",
     "text": [
      "[1, 2, 2, 3, 4, 5]\n",
      "mean: 2.83\n",
      "median: 2.5\n",
      "mode: 2\n"
     ]
    }
   ],
   "source": [
    "import statistics as s\n",
    "\n",
    "list1=[1,2,2,3,4,5]\n",
    "print(list1)\n",
    "\n",
    "print(f\"mean: {s.mean(list1):.2f}\")\n",
    "print(f\"median: {s.median(list1)}\")\n",
    "print(f\"mode: {s.mode(list1)}\")\n"
   ]
  },
  {
   "cell_type": "code",
   "execution_count": 17,
   "id": "23d6acc1",
   "metadata": {},
   "outputs": [
    {
     "name": "stdout",
     "output_type": "stream",
     "text": [
      "(1, 2, 3, 4, 5)\n"
     ]
    }
   ],
   "source": [
    "tuple1=(1,2,3,4,5)\n",
    "print(tuple1)"
   ]
  },
  {
   "cell_type": "code",
   "execution_count": 19,
   "id": "e7d5c1a0",
   "metadata": {},
   "outputs": [
    {
     "name": "stdout",
     "output_type": "stream",
     "text": [
      "(4, 'four', 4.44)\n"
     ]
    }
   ],
   "source": [
    "# program to create a tuple with different data types. \n",
    "d_tuple=(4,\"four\",4.44)\n",
    "print(d_tuple)"
   ]
  },
  {
   "cell_type": "code",
   "execution_count": null,
   "id": "2158aa42",
   "metadata": {},
   "outputs": [],
   "source": [
    "# program to check whether an element exists within a tuple.\n",
    "tuple1=(1,2,3,4,6)\n",
    "a=int(input(\"Enter elmenet to check: \"))\n",
    "print(a in tuple1)\n"
   ]
  },
  {
   "cell_type": "code",
   "execution_count": null,
   "id": "193382fb",
   "metadata": {},
   "outputs": [],
   "source": []
  }
 ],
 "metadata": {
  "kernelspec": {
   "display_name": "Python 3 (ipykernel)",
   "language": "python",
   "name": "python3"
  },
  "language_info": {
   "codemirror_mode": {
    "name": "ipython",
    "version": 3
   },
   "file_extension": ".py",
   "mimetype": "text/x-python",
   "name": "python",
   "nbconvert_exporter": "python",
   "pygments_lexer": "ipython3",
   "version": "3.9.12"
  }
 },
 "nbformat": 4,
 "nbformat_minor": 5
}
