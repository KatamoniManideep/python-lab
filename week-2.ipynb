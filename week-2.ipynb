{
 "cells": [
  {
   "cell_type": "code",
   "execution_count": 11,
   "id": "00d60405",
   "metadata": {},
   "outputs": [
    {
     "name": "stdout",
     "output_type": "stream",
     "text": [
      "5 \n",
      "4 4 \n",
      "3 3 3 \n",
      "2 2 2 2 \n",
      "1 1 1 1 1 \n"
     ]
    }
   ],
   "source": [
    "nrow = 5\n",
    "for i in range(nrow, 0, -1):\n",
    "    for j in range(nrow - i + 1):\n",
    "        print(i, end=' ')\n",
    "    print()\n"
   ]
  },
  {
   "cell_type": "code",
   "execution_count": 12,
   "id": "cb888973",
   "metadata": {},
   "outputs": [
    {
     "name": "stdout",
     "output_type": "stream",
     "text": [
      "Enter a character: 5\n",
      "Digit\n"
     ]
    }
   ],
   "source": [
    "user_input = input(\"Enter a character: \")\n",
    "\n",
    "if len(user_input) != 1:\n",
    "    print(\"Please enter exactly one character.\")\n",
    "else:\n",
    "    char = user_input[0]\n",
    "    \n",
    "    if char.isdigit():\n",
    "        print(\"Digit\")\n",
    "    elif char.islower():\n",
    "        print(\"Lowercase character\")\n",
    "    elif char.isupper():\n",
    "        print(\"Uppercase character\")\n",
    "    else:\n",
    "        print(\"Not a digit or an alphabet character\")\n",
    "\n"
   ]
  },
  {
   "cell_type": "code",
   "execution_count": 29,
   "id": "a3bb12b2",
   "metadata": {},
   "outputs": [
    {
     "name": "stdout",
     "output_type": "stream",
     "text": [
      "Enter n for total numbers in series: 6\n",
      "1\n",
      "0\n",
      "1\n",
      "1\n",
      "2\n",
      "3\n",
      "5\n"
     ]
    }
   ],
   "source": [
    "n = int(input(\"Enter n for total numbers in series: \"))\n",
    "\n",
    "n1, n2 = 0, 1\n",
    "\n",
    "count = 0\n",
    "\n",
    "while count < n:\n",
    "    print(n1)\n",
    " \n",
    "    n1, n2 = n2, n1 + n2\n",
    "    count += 1\n"
   ]
  },
  {
   "cell_type": "code",
   "execution_count": 5,
   "id": "c6b3613f",
   "metadata": {},
   "outputs": [
    {
     "name": "stdout",
     "output_type": "stream",
     "text": [
      "Enter range10\n",
      "2\n",
      "3\n",
      "5\n",
      "7\n"
     ]
    }
   ],
   "source": [
    "n=int(input(\"Enter range: \"))\n",
    "\n",
    "for i in range(2,n):\n",
    "    for j in range(2,(i//2)+1):\n",
    "        if (i%j)==0:\n",
    "            break\n",
    "    else:\n",
    "            print(i)"
   ]
  },
  {
   "cell_type": "code",
   "execution_count": 10,
   "id": "15d0d784",
   "metadata": {},
   "outputs": [
    {
     "name": "stdout",
     "output_type": "stream",
     "text": [
      "enter n112\n",
      "enter n215\n",
      "The Least Common Multiple of 12 and 15 is 60\n"
     ]
    }
   ],
   "source": [
    "import math\n",
    "n1=int(input(\"enter n1:\"))\n",
    "n2=int(input(\"enter n2:\"))\n",
    "print(f\"The Least Common Multiple of {n1} and {n2} is {math.lcm(n1,n2)}\")"
   ]
  },
  {
   "cell_type": "code",
   "execution_count": null,
   "id": "937e6c2e",
   "metadata": {},
   "outputs": [],
   "source": []
  }
 ],
 "metadata": {
  "kernelspec": {
   "display_name": "Python 3 (ipykernel)",
   "language": "python",
   "name": "python3"
  },
  "language_info": {
   "codemirror_mode": {
    "name": "ipython",
    "version": 3
   },
   "file_extension": ".py",
   "mimetype": "text/x-python",
   "name": "python",
   "nbconvert_exporter": "python",
   "pygments_lexer": "ipython3",
   "version": "3.9.12"
  }
 },
 "nbformat": 4,
 "nbformat_minor": 5
}
