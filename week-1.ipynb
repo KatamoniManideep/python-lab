{
 "cells": [
  {
   "cell_type": "code",
   "execution_count": 25,
   "id": "1c2135a5",
   "metadata": {
    "scrolled": true
   },
   "outputs": [
    {
     "ename": "KeyboardInterrupt",
     "evalue": "Interrupted by user",
     "output_type": "error",
     "traceback": [
      "\u001b[1;31m---------------------------------------------------------------------------\u001b[0m",
      "\u001b[1;31mKeyboardInterrupt\u001b[0m                         Traceback (most recent call last)",
      "Input \u001b[1;32mIn [25]\u001b[0m, in \u001b[0;36m<cell line: 1>\u001b[1;34m()\u001b[0m\n\u001b[1;32m----> 1\u001b[0m a\u001b[38;5;241m=\u001b[39m\u001b[38;5;28mint\u001b[39m(\u001b[38;5;28;43minput\u001b[39;49m\u001b[43m(\u001b[49m\u001b[38;5;124;43m\"\u001b[39;49m\u001b[38;5;124;43menter a \u001b[39;49m\u001b[38;5;124;43m\"\u001b[39;49m\u001b[43m)\u001b[49m)\n",
      "File \u001b[1;32m~\\anaconda3\\lib\\site-packages\\ipykernel\\kernelbase.py:1075\u001b[0m, in \u001b[0;36mKernel.raw_input\u001b[1;34m(self, prompt)\u001b[0m\n\u001b[0;32m   1071\u001b[0m \u001b[38;5;28;01mif\u001b[39;00m \u001b[38;5;129;01mnot\u001b[39;00m \u001b[38;5;28mself\u001b[39m\u001b[38;5;241m.\u001b[39m_allow_stdin:\n\u001b[0;32m   1072\u001b[0m     \u001b[38;5;28;01mraise\u001b[39;00m StdinNotImplementedError(\n\u001b[0;32m   1073\u001b[0m         \u001b[38;5;124m\"\u001b[39m\u001b[38;5;124mraw_input was called, but this frontend does not support input requests.\u001b[39m\u001b[38;5;124m\"\u001b[39m\n\u001b[0;32m   1074\u001b[0m     )\n\u001b[1;32m-> 1075\u001b[0m \u001b[38;5;28;01mreturn\u001b[39;00m \u001b[38;5;28;43mself\u001b[39;49m\u001b[38;5;241;43m.\u001b[39;49m\u001b[43m_input_request\u001b[49m\u001b[43m(\u001b[49m\n\u001b[0;32m   1076\u001b[0m \u001b[43m    \u001b[49m\u001b[38;5;28;43mstr\u001b[39;49m\u001b[43m(\u001b[49m\u001b[43mprompt\u001b[49m\u001b[43m)\u001b[49m\u001b[43m,\u001b[49m\n\u001b[0;32m   1077\u001b[0m \u001b[43m    \u001b[49m\u001b[38;5;28;43mself\u001b[39;49m\u001b[38;5;241;43m.\u001b[39;49m\u001b[43m_parent_ident\u001b[49m\u001b[43m[\u001b[49m\u001b[38;5;124;43m\"\u001b[39;49m\u001b[38;5;124;43mshell\u001b[39;49m\u001b[38;5;124;43m\"\u001b[39;49m\u001b[43m]\u001b[49m\u001b[43m,\u001b[49m\n\u001b[0;32m   1078\u001b[0m \u001b[43m    \u001b[49m\u001b[38;5;28;43mself\u001b[39;49m\u001b[38;5;241;43m.\u001b[39;49m\u001b[43mget_parent\u001b[49m\u001b[43m(\u001b[49m\u001b[38;5;124;43m\"\u001b[39;49m\u001b[38;5;124;43mshell\u001b[39;49m\u001b[38;5;124;43m\"\u001b[39;49m\u001b[43m)\u001b[49m\u001b[43m,\u001b[49m\n\u001b[0;32m   1079\u001b[0m \u001b[43m    \u001b[49m\u001b[43mpassword\u001b[49m\u001b[38;5;241;43m=\u001b[39;49m\u001b[38;5;28;43;01mFalse\u001b[39;49;00m\u001b[43m,\u001b[49m\n\u001b[0;32m   1080\u001b[0m \u001b[43m\u001b[49m\u001b[43m)\u001b[49m\n",
      "File \u001b[1;32m~\\anaconda3\\lib\\site-packages\\ipykernel\\kernelbase.py:1120\u001b[0m, in \u001b[0;36mKernel._input_request\u001b[1;34m(self, prompt, ident, parent, password)\u001b[0m\n\u001b[0;32m   1117\u001b[0m             \u001b[38;5;28;01mbreak\u001b[39;00m\n\u001b[0;32m   1118\u001b[0m \u001b[38;5;28;01mexcept\u001b[39;00m \u001b[38;5;167;01mKeyboardInterrupt\u001b[39;00m:\n\u001b[0;32m   1119\u001b[0m     \u001b[38;5;66;03m# re-raise KeyboardInterrupt, to truncate traceback\u001b[39;00m\n\u001b[1;32m-> 1120\u001b[0m     \u001b[38;5;28;01mraise\u001b[39;00m \u001b[38;5;167;01mKeyboardInterrupt\u001b[39;00m(\u001b[38;5;124m\"\u001b[39m\u001b[38;5;124mInterrupted by user\u001b[39m\u001b[38;5;124m\"\u001b[39m) \u001b[38;5;28;01mfrom\u001b[39;00m \u001b[38;5;28mNone\u001b[39m\n\u001b[0;32m   1121\u001b[0m \u001b[38;5;28;01mexcept\u001b[39;00m \u001b[38;5;167;01mException\u001b[39;00m:\n\u001b[0;32m   1122\u001b[0m     \u001b[38;5;28mself\u001b[39m\u001b[38;5;241m.\u001b[39mlog\u001b[38;5;241m.\u001b[39mwarning(\u001b[38;5;124m\"\u001b[39m\u001b[38;5;124mInvalid Message:\u001b[39m\u001b[38;5;124m\"\u001b[39m, exc_info\u001b[38;5;241m=\u001b[39m\u001b[38;5;28;01mTrue\u001b[39;00m)\n",
      "\u001b[1;31mKeyboardInterrupt\u001b[0m: Interrupted by user"
     ]
    }
   ],
   "source": [
    "a=int(input(\"enter a \"))\n"
   ]
  },
  {
   "cell_type": "code",
   "execution_count": null,
   "id": "89b40784",
   "metadata": {},
   "outputs": [],
   "source": [
    "b=int(input(\"enter b \"))"
   ]
  },
  {
   "cell_type": "code",
   "execution_count": null,
   "id": "90dbb9bd",
   "metadata": {},
   "outputs": [],
   "source": [
    "print(\"a+b\",a+b)"
   ]
  },
  {
   "cell_type": "code",
   "execution_count": null,
   "id": "45fa429c",
   "metadata": {},
   "outputs": [],
   "source": [
    "print(\"a-b\",a-b)"
   ]
  },
  {
   "cell_type": "code",
   "execution_count": null,
   "id": "10a6e600",
   "metadata": {},
   "outputs": [],
   "source": [
    "print(\"a*b\",a*b)"
   ]
  },
  {
   "cell_type": "code",
   "execution_count": null,
   "id": "abe4cc70",
   "metadata": {},
   "outputs": [],
   "source": [
    "print(\"a/b\",a/b)"
   ]
  },
  {
   "cell_type": "code",
   "execution_count": 28,
   "id": "07fd07ce",
   "metadata": {},
   "outputs": [
    {
     "name": "stdout",
     "output_type": "stream",
     "text": [
      "Principal amount: 25000\n",
      "Annual Intrest rate: 0.025\n",
      "Enter n: 4\n",
      "Total years: 5\n",
      "Final amount after compound intrest:  28317.693459822975\n"
     ]
    }
   ],
   "source": [
    "p=float(input(\"Principal amount: \"))\n",
    "r=float(input(\"Annual Intrest rate: \"))\n",
    "n=int(input(\"Enter n: \"))\n",
    "t=float(input(\"Total years: \"))\n",
    "a=p*(1+r/n)**(n*t)\n",
    "print(\"Final amount after compound intrest: \",a)"
   ]
  },
  {
   "cell_type": "code",
   "execution_count": 27,
   "id": "43b59e80",
   "metadata": {},
   "outputs": [],
   "source": [
    "import math\n"
   ]
  },
  {
   "cell_type": "code",
   "execution_count": 12,
   "id": "d0cec5be",
   "metadata": {},
   "outputs": [
    {
     "name": "stdout",
     "output_type": "stream",
     "text": [
      "Enter x1: 4\n",
      "Enter x2: 3\n",
      "Enter y1: 7\n",
      "Enter y2: 5\n",
      "Distance between two points:  2.23606797749979\n"
     ]
    }
   ],
   "source": [
    "x1=int(input(\"Enter x1: \"))\n",
    "x2=int(input(\"Enter x2: \"))\n",
    "y1=int(input(\"Enter y1: \"))\n",
    "y2=int(input(\"Enter y2: \"))\n",
    "dist=math.sqrt((x2-x1)**2 + (y2-y1)**2)\n",
    "print(\"Distance between two points: \",dist)"
   ]
  },
  {
   "cell_type": "code",
   "execution_count": 18,
   "id": "e50ac57f",
   "metadata": {},
   "outputs": [
    {
     "name": "stdout",
     "output_type": "stream",
     "text": [
      "Enter your name: Manideep\n",
      "Enter your address: hyd\n",
      "Enter Email: mani@gamil.com\n",
      "Enter phone number: 9876543210\n",
      "Name:  Manideep\n",
      "Address:  hyd\n",
      "Mail:  mani@gamil.com\n",
      "Phone.no:  9876543210\n"
     ]
    }
   ],
   "source": [
    "name=input(\"Enter your name: \")\n",
    "add=input(\"Enter your address: \")\n",
    "mail=input(\"Enter Email: \")\n",
    "phone=int(input(\"Enter phone number: \"))\n",
    "print(\"Name: \",name)\n",
    "print(\"Address: \",add)\n",
    "print(\"Mail: \",mail)\n",
    "print(\"Phone.no: \",phone)"
   ]
  },
  {
   "cell_type": "code",
   "execution_count": null,
   "id": "1d46ec84",
   "metadata": {},
   "outputs": [],
   "source": []
  },
  {
   "cell_type": "code",
   "execution_count": null,
   "id": "8fd751c8",
   "metadata": {},
   "outputs": [],
   "source": []
  },
  {
   "cell_type": "code",
   "execution_count": null,
   "id": "e2673558",
   "metadata": {},
   "outputs": [],
   "source": []
  }
 ],
 "metadata": {
  "kernelspec": {
   "display_name": "Python 3 (ipykernel)",
   "language": "python",
   "name": "python3"
  },
  "language_info": {
   "codemirror_mode": {
    "name": "ipython",
    "version": 3
   },
   "file_extension": ".py",
   "mimetype": "text/x-python",
   "name": "python",
   "nbconvert_exporter": "python",
   "pygments_lexer": "ipython3",
   "version": "3.9.12"
  }
 },
 "nbformat": 4,
 "nbformat_minor": 5
}
